{
 "cells": [
  {
   "cell_type": "code",
   "execution_count": 44,
   "id": "d12ba7f4-6184-48f1-88ae-3ba7812c7202",
   "metadata": {
    "tags": []
   },
   "outputs": [],
   "source": [
    "import numpy as np\n",
    "import pandas as pd\n",
    "import sklearn"
   ]
  },
  {
   "cell_type": "code",
   "execution_count": 45,
   "id": "5393a210-2ee0-460c-8a3c-8c22d50cd695",
   "metadata": {},
   "outputs": [],
   "source": [
    "# read data files\n",
    "data = pd.read_csv('i.csv', header = None, float_precision='high', sep = ';', dtype = np.float64)\n",
    "target = pd.read_csv('o.csv', header = None, float_precision='high', sep = ';', dtype = np.float64)\n"
   ]
  },
  {
   "cell_type": "code",
   "execution_count": 46,
   "id": "619b0de8",
   "metadata": {},
   "outputs": [],
   "source": [
    "from sklearn.preprocessing import StandardScaler\n",
    "from sklearn.model_selection import train_test_split\n",
    "\n",
    "# set some random\n",
    "np.random.seed(76213)\n",
    "\n",
    "# normalize features\n",
    "scaler = StandardScaler()\n",
    "scaler.fit(data) \n",
    "scaled_df = scaler.transform(data)\n",
    "\n",
    "# make train data\n",
    "X_train, X_test, y_train, y_test = train_test_split(scaled_df, target, test_size=0.33, random_state=42)\n",
    "y_train = np.ravel(y_train)\n"
   ]
  },
  {
   "cell_type": "code",
   "execution_count": 47,
   "id": "02a49317",
   "metadata": {},
   "outputs": [],
   "source": [
    "from sklearn.linear_model import SGDRegressor\n",
    "\n",
    "# SGD regressor (best: 0.00138)\n",
    "# model = SGDRegressor(tol=0.0001, learning_rate='adaptive')\n",
    "# model.fit(X_train, y_train)\n"
   ]
  },
  {
   "cell_type": "code",
   "execution_count": 48,
   "id": "18c02d83",
   "metadata": {},
   "outputs": [
    {
     "name": "stdout",
     "output_type": "stream",
     "text": [
      "Train SGDRegressor RMSE: 0.0014881220918612783\n",
      "Test SGDRegressor RMSE: 0.001489141672638759\n"
     ]
    }
   ],
   "source": [
    "from sklearn.neural_network import MLPRegressor\n",
    "from sklearn.metrics import mean_squared_error\n",
    "\n",
    "\n",
    "# MLPRegressor\n",
    "mlpReg = MLPRegressor(activation='relu',            # ‘identity’, ‘logistic’, ‘tanh’, ‘relu’\n",
    "                        solver='adam',             #‘lbfgs’, ‘sgd’, ‘adam’   \n",
    "                        batch_size='auto',          \n",
    "                        learning_rate='adaptive',   \n",
    "                        max_iter=7000,\n",
    "                        random_state=42,\n",
    "                        tol=0.001)\n",
    "\n",
    "mlpReg.fit(X_train, y_train)\n",
    "\n",
    "train_mse_MLPRegressor = mean_squared_error(y_train, mlpReg.predict(X_train),squared=False)\n",
    "test_mse_MLPRegressor = mean_squared_error(y_test, mlpReg.predict(X_test),squared=False)\n",
    "\n",
    "print(\"Train MLPRegressor RMSE: {}\".format((train_mse_MLPRegressor)))\n",
    "print(\"Test MLPRegressor RMSE: {}\".format((test_mse_MLPRegressor)))"
   ]
  },
  {
   "cell_type": "code",
   "execution_count": 49,
   "id": "1ff7d6de",
   "metadata": {},
   "outputs": [
    {
     "name": "stdout",
     "output_type": "stream",
     "text": [
      "Fitting 5 folds for each of 24 candidates, totalling 120 fits\n",
      "[CV 1/5] END activation=identity, learning_rate=adaptive, solver=adam;, score=-0.000 total time=  25.3s\n",
      "[CV 4/5] END activation=identity, learning_rate=adaptive, solver=adam;, score=-0.000 total time=  25.3s\n",
      "[CV 3/5] END activation=identity, learning_rate=adaptive, solver=adam;, score=-0.000 total time=  25.4s\n",
      "[CV 2/5] END activation=identity, learning_rate=adaptive, solver=adam;, score=-0.000 total time=  25.4s\n",
      "[CV 2/5] END activation=identity, learning_rate=adaptive, solver=lbfgs;, score=-0.000 total time=  21.7s\n",
      "[CV 3/5] END activation=identity, learning_rate=adaptive, solver=lbfgs;, score=-0.001 total time=  23.6s\n",
      "[CV 1/5] END activation=identity, learning_rate=adaptive, solver=lbfgs;, score=-0.001 total time=  23.8s\n",
      "[CV 5/5] END activation=identity, learning_rate=adaptive, solver=adam;, score=-0.000 total time=  32.2s\n",
      "[CV 4/5] END activation=identity, learning_rate=adaptive, solver=lbfgs;, score=-0.001 total time=  16.2s\n",
      "[CV 5/5] END activation=identity, learning_rate=adaptive, solver=lbfgs;, score=-0.000 total time=  16.4s\n",
      "[CV 1/5] END activation=identity, learning_rate=adaptive, solver=sgd;, score=-0.000 total time= 1.8min\n",
      "[CV 2/5] END activation=identity, learning_rate=adaptive, solver=sgd;, score=-0.000 total time= 1.8min\n",
      "[CV 3/5] END activation=identity, learning_rate=adaptive, solver=sgd;, score=-0.000 total time= 1.8min\n",
      "[CV 4/5] END activation=identity, learning_rate=adaptive, solver=sgd;, score=-0.000 total time= 1.8min\n",
      "[CV 1/5] END activation=identity, learning_rate=invscaling, solver=adam;, score=-0.000 total time=  23.3s\n",
      "[CV 2/5] END activation=identity, learning_rate=invscaling, solver=adam;, score=-0.000 total time=  23.3s\n",
      "[CV 3/5] END activation=identity, learning_rate=invscaling, solver=adam;, score=-0.000 total time=  23.4s\n",
      "[CV 1/5] END activation=identity, learning_rate=invscaling, solver=lbfgs;, score=-0.001 total time=  14.5s\n",
      "[CV 4/5] END activation=identity, learning_rate=invscaling, solver=adam;, score=-0.000 total time=  22.8s\n",
      "[CV 5/5] END activation=identity, learning_rate=invscaling, solver=adam;, score=-0.000 total time=  22.5s\n",
      "[CV 2/5] END activation=identity, learning_rate=invscaling, solver=lbfgs;, score=-0.000 total time=  15.3s\n",
      "[CV 3/5] END activation=identity, learning_rate=invscaling, solver=lbfgs;, score=-0.001 total time=  16.6s\n",
      "[CV 4/5] END activation=identity, learning_rate=invscaling, solver=lbfgs;, score=-0.001 total time=  15.6s\n",
      "[CV 5/5] END activation=identity, learning_rate=invscaling, solver=lbfgs;, score=-0.000 total time=  15.0s\n",
      "[CV 1/5] END activation=identity, learning_rate=invscaling, solver=sgd;, score=-0.000 total time=  20.7s\n",
      "[CV 2/5] END activation=identity, learning_rate=invscaling, solver=sgd;, score=-0.000 total time=  20.8s\n",
      "[CV 3/5] END activation=identity, learning_rate=invscaling, solver=sgd;, score=-0.000 total time=  20.8s\n",
      "[CV 5/5] END activation=identity, learning_rate=adaptive, solver=sgd;, score=-0.000 total time= 1.8min\n",
      "[CV 4/5] END activation=identity, learning_rate=invscaling, solver=sgd;, score=-0.000 total time=  21.0s\n",
      "[CV 5/5] END activation=identity, learning_rate=invscaling, solver=sgd;, score=-0.000 total time=  21.3s\n",
      "[CV 1/5] END activation=logistic, learning_rate=adaptive, solver=adam;, score=-0.000 total time=  32.9s\n",
      "[CV 2/5] END activation=logistic, learning_rate=adaptive, solver=adam;, score=-0.000 total time=  35.9s\n",
      "[CV 3/5] END activation=logistic, learning_rate=adaptive, solver=adam;, score=-0.000 total time=  39.4s\n"
     ]
    }
   ],
   "source": [
    "from sklearn.model_selection import GridSearchCV\n",
    "from sklearn.metrics import make_scorer \n",
    "\n",
    "params = {\n",
    "    \"activation\" : ['identity', 'logistic', 'tanh', 'relu'],\n",
    "    \"solver\" : ['adam', 'lbfgs', 'sgd'],\n",
    "    \"learning_rate\" : ['adaptive', 'invscaling']\n",
    "}\n",
    "\n",
    "# Find best hyper params and then refit on all training data:\n",
    "reg = GridSearchCV(estimator=mlpReg, \n",
    "                    param_grid=params,\n",
    "                    # cv=3, \n",
    "                    refit=True, \n",
    "                    verbose=5,\n",
    "                    n_jobs=4,\n",
    "                    scoring='neg_mean_squared_error')\n",
    "\n",
    "# Поиск оптимальных параметров\n",
    "reg.fit(X_train, y_train)\n"
   ]
  },
  {
   "cell_type": "code",
   "execution_count": null,
   "id": "883df5c7",
   "metadata": {},
   "outputs": [],
   "source": [
    "\n",
    "print(\"Лучшие параметры: {}\".format(reg.best_params_)) \n",
    "print(\"Лучшая оценка RMSE: {}\".format(reg.best_score_))\n"
   ]
  },
  {
   "cell_type": "code",
   "execution_count": null,
   "id": "f0cf6311",
   "metadata": {},
   "outputs": [],
   "source": [
    "# sorted(list(zip(data.columns, model.coef_)), \n",
    "#        key=lambda x: abs(x[1]))"
   ]
  },
  {
   "cell_type": "code",
   "execution_count": null,
   "id": "000b78d5",
   "metadata": {},
   "outputs": [],
   "source": [
    "import pickle\n",
    "\n",
    "# save the model to disk\n",
    "filenameModel = 'finalized_model.sav'\n",
    "pickle.dump(mlpReg, open(filenameModel, 'w'))\n",
    " \n",
    "fiilenameParams = 'modelParams.sav'\n",
    "pickle.dump(reg.best_params_, open(fiilenameParams, 'w'))\n",
    "# some time later...\n",
    " \n",
    "# load the model from disk\n",
    "# loaded_model = pickle.load(open(filename, 'r'))\n",
    "# result = loaded_model.score(X_test, y_test)\n",
    "# print(result)"
   ]
  },
  {
   "cell_type": "code",
   "execution_count": null,
   "id": "1a0ce0c3",
   "metadata": {},
   "outputs": [],
   "source": []
  }
 ],
 "metadata": {
  "kernelspec": {
   "display_name": "Python 3.11.1 64-bit",
   "language": "python",
   "name": "python3"
  },
  "language_info": {
   "codemirror_mode": {
    "name": "ipython",
    "version": 3
   },
   "file_extension": ".py",
   "mimetype": "text/x-python",
   "name": "python",
   "nbconvert_exporter": "python",
   "pygments_lexer": "ipython3",
   "version": "3.11.1"
  },
  "vscode": {
   "interpreter": {
    "hash": "aee8b7b246df8f9039afb4144a1f6fd8d2ca17a180786b69acc140d282b71a49"
   }
  }
 },
 "nbformat": 4,
 "nbformat_minor": 5
}
