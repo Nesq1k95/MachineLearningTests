{
 "cells": [
  {
   "cell_type": "code",
   "execution_count": 2,
   "id": "d12ba7f4-6184-48f1-88ae-3ba7812c7202",
   "metadata": {
    "tags": []
   },
   "outputs": [],
   "source": [
    "import numpy as np\n",
    "import pandas as pd\n",
    "import sklearn\n",
    "import pickle\n",
    "import matplotlib.pyplot as plt\n",
    "\n",
    "from sklearn.linear_model import SGDRegressor\n",
    "from sklearn.neural_network import MLPRegressor\n",
    "from sklearn.model_selection import GridSearchCV\n",
    "from sklearn.preprocessing import StandardScaler\n",
    "from sklearn.model_selection import train_test_split\n",
    "from sklearn.metrics import mean_squared_error\n",
    "from sklearn.metrics import make_scorer \n",
    "\n",
    "# Function for score by RMSE\n",
    "def rmse(predict, actual):\n",
    "    predict = np.array(predict)\n",
    "    actual = np.array(actual)\n",
    "\n",
    "    distance = predict - actual\n",
    "\n",
    "    square_distance = distance ** 2\n",
    "\n",
    "    mean_square_distance = square_distance.mean()\n",
    "\n",
    "    score = np.sqrt(mean_square_distance)\n",
    "\n",
    "    return score\n",
    "\n",
    "rmse_score = make_scorer(rmse, greater_is_better = False)"
   ]
  },
  {
   "cell_type": "code",
   "execution_count": 3,
   "id": "5393a210-2ee0-460c-8a3c-8c22d50cd695",
   "metadata": {},
   "outputs": [],
   "source": [
    "# read data files\n",
    "data = pd.read_csv('i.csv', header = None, float_precision='high', sep = ';', dtype = np.float64)\n",
    "target = pd.read_csv('o.csv', header = None, float_precision='high', sep = ';', dtype = np.float64)"
   ]
  },
  {
   "cell_type": "code",
   "execution_count": 15,
   "id": "619b0de8",
   "metadata": {},
   "outputs": [],
   "source": [
    "# set some random\n",
    "np.random.seed(76213)\n",
    "\n",
    "# normalize features\n",
    "scaler = StandardScaler()\n",
    "scaler.fit(data) \n",
    "scaled_df = scaler.transform(data)\n",
    "\n",
    "# make train data\n",
    "X_train, X_test, y_train, y_test = train_test_split(scaled_df, target, test_size=0.33, random_state=42)\n",
    "y_train = np.ravel(y_train)\n"
   ]
  },
  {
   "cell_type": "code",
   "execution_count": null,
   "id": "746fcd4d",
   "metadata": {},
   "outputs": [],
   "source": [
    "# Create mpl regressor cross-validation\n",
    "mlp_reg = MLPRegressor(hidden_layer_sizes=(150,100,50),\n",
    "                       max_iter = 300,activation = 'relu',\n",
    "                       solver = 'adam')\n",
    "\n",
    "param_grid = {\n",
    "    'hidden_layer_sizes': [(24), (24,24), (24,12,12) ,(24,24,24)],\n",
    "    'max_iter': [7000, 10000, 15000, 20000],\n",
    "    'activation': ['tanh', 'relu', ''],\n",
    "    'solver': ['lbfgs', 'adam', 'sgd'],\n",
    "    'alpha': [0.0001, 0.05, 0.005],\n",
    "    'learning_rate': ['adaptive'],\n",
    "}\n",
    "\n",
    "grid = GridSearchCV(mlp_reg, param_grid, n_jobs= -1, cv=3, scoring=rmse_score, refit=True, verbose=5)\n",
    "grid.fit(X_train, y_train)"
   ]
  },
  {
   "cell_type": "code",
   "execution_count": 1,
   "id": "fcbf67bb",
   "metadata": {},
   "outputs": [
    {
     "ename": "NameError",
     "evalue": "name 'pickle' is not defined",
     "output_type": "error",
     "traceback": [
      "\u001b[0;31m---------------------------------------------------------------------------\u001b[0m",
      "\u001b[0;31mNameError\u001b[0m                                 Traceback (most recent call last)",
      "Cell \u001b[0;32mIn[1], line 2\u001b[0m\n\u001b[1;32m      1\u001b[0m \u001b[39m# save the model to disk\u001b[39;00m\n\u001b[0;32m----> 2\u001b[0m pickle\u001b[39m.\u001b[39mdump(mlp_reg, \u001b[39mopen\u001b[39m(\u001b[39m'\u001b[39m\u001b[39mMlpBestModel.sav\u001b[39m\u001b[39m'\u001b[39m, \u001b[39m'\u001b[39m\u001b[39mwb\u001b[39m\u001b[39m'\u001b[39m))\n\u001b[1;32m      4\u001b[0m \u001b[39mprint\u001b[39m(\u001b[39m\"\u001b[39m\u001b[39mЛучшие параметры: \u001b[39m\u001b[39m{}\u001b[39;00m\u001b[39m\"\u001b[39m\u001b[39m.\u001b[39mformat(grid\u001b[39m.\u001b[39mbest_params_)) \n\u001b[1;32m      5\u001b[0m \u001b[39mprint\u001b[39m(\u001b[39m\"\u001b[39m\u001b[39mЛучшая оценка RMSE: \u001b[39m\u001b[39m{}\u001b[39;00m\u001b[39m\"\u001b[39m\u001b[39m.\u001b[39mformat(grid\u001b[39m.\u001b[39mbest_score_))\n",
      "\u001b[0;31mNameError\u001b[0m: name 'pickle' is not defined"
     ]
    }
   ],
   "source": [
    "# save the model to disk\n",
    "pickle.dump(mlp_reg, open('MlpBestModel.sav', 'wb'))\n",
    "\n",
    "print(\"Лучшие параметры: {}\".format(grid.best_params_)) \n",
    "print(\"Лучшая оценка RMSE: {}\".format(grid.best_score_))\n",
    "\n",
    "df_temp2 = pd.DataFrame({'Actual': np.ravel(y_test), 'Predicted': np.ravel(grid.predict(X_test))})\n",
    "df_temp2.head()\n",
    "\n",
    "df_temp2 = df_temp2.head(30)\n",
    "df_temp2.plot(kind='bar',figsize=(10,6))\n",
    "plt.grid(which='major', linestyle='-', linewidth='0.2', color='green')\n",
    "plt.grid(which='minor', linestyle=':', linewidth='0.2', color='black')\n",
    "plt.show()"
   ]
  },
  {
   "cell_type": "code",
   "execution_count": null,
   "id": "02a49317",
   "metadata": {},
   "outputs": [],
   "source": [
    "\n",
    "# SGD regressor (best: 0.00138)\n",
    "SGDReg = SGDRegressor(tol=0.0001, learning_rate='adaptive')\n",
    "SGDReg.fit(X_train, y_train)\n",
    "\n",
    "\n",
    "print(\"Train SGDReg RMSE: {}\".format((mean_squared_error(y_train, SGDReg.predict(X_train),squared=False))))\n",
    "print(\"Test SGDReg RMSE: {}\".format((mean_squared_error(y_test, SGDReg.predict(X_test),squared=False))))"
   ]
  },
  {
   "cell_type": "code",
   "execution_count": null,
   "id": "d7670b7b",
   "metadata": {},
   "outputs": [],
   "source": [
    "\n",
    "\n",
    "# # Define base regressor:\n",
    "# base_reg = MLPRegressor(learning_rate='adaptive', max_iter=7000, random_state=42)\n",
    "\n",
    "# # Define search space:\n",
    "# params = {\n",
    "#     'activation': ['logistic', 'relu', 'tanh'],  # <-- added 'tanh' as third non-linear activation function\n",
    "#     'alpha': np.logspace(0.0001, 100, 10)\n",
    "#     # 'hidden_layer_sizes': [\n",
    "#     #     (10, 10), (20, 10), (30, 10)\n",
    "#     #     # (40, 10), (90, 10), (90, 30, 10)  # <-- added more neurons or layers\n",
    "#     # ]\n",
    "# }\n",
    "\n",
    "# # Find best hyper params and then refit on all training data:\n",
    "# reg = GridSearchCV(estimator=base_reg, param_grid=params,\n",
    "#                    n_jobs=4, cv=3, refit=True, verbose=5,\n",
    "#                    scoring=mean_squared_error)  # <-- verbose=5\n",
    "# reg.fit(X_train, y_train)\n",
    "\n",
    "# print(reg.best_estimator_)\n",
    "\n",
    "# print(reg.best_params_)"
   ]
  },
  {
   "cell_type": "code",
   "execution_count": null,
   "id": "18c02d83",
   "metadata": {},
   "outputs": [],
   "source": [
    "\n",
    "\n",
    "\n",
    "# # MLPRegressor\n",
    "# mlpReg = MLPRegressor(alpha=1.0002302850208247, learning_rate='adaptive', max_iter=7000,\n",
    "#              random_state=42,activation='relu')\n",
    "\n",
    "# # MLPRegressor(activation='relu',            # ‘identity’, ‘logistic’, ‘tanh’, ‘relu’\n",
    "# #                         solver='adam',             #‘lbfgs’, ‘sgd’, ‘adam’   \n",
    "# #                         batch_size='auto',          \n",
    "# #                         learning_rate='adaptive',   \n",
    "# #                         max_iter=10000,\n",
    "# #                         random_state=42,\n",
    "# #                         tol=0.0001)\n",
    "\n",
    "# mlpReg.fit(X_train, y_train)\n",
    "\n",
    "# train_mse_MLPRegressor = mean_squared_error(y_train, mlpReg.predict(X_train),squared=False)\n",
    "# test_mse_MLPRegressor = mean_squared_error(y_test, mlpReg.predict(X_test),squared=False)\n",
    "\n",
    "# print(\"Train MLPRegressor RMSE: {}\".format((train_mse_MLPRegressor)))\n",
    "# print(\"Test MLPRegressor RMSE: {}\".format((test_mse_MLPRegressor)))"
   ]
  },
  {
   "cell_type": "code",
   "execution_count": null,
   "id": "1ff7d6de",
   "metadata": {},
   "outputs": [],
   "source": [
    "\n",
    "\n",
    "# params = {\n",
    "#     \"activation\" : ['identity', 'logistic', 'tanh', 'relu'],\n",
    "#     \"solver\" : ['adam', 'lbfgs', 'sgd'],\n",
    "#     \"learning_rate\" : ['adaptive', 'invscaling']\n",
    "# }\n",
    "\n",
    "# # Find best hyper params and then refit on all training data:\n",
    "# reg = GridSearchCV(estimator=mlpReg, \n",
    "#                     param_grid=params,\n",
    "#                     # cv=3, \n",
    "#                     refit=True, \n",
    "#                     verbose=5,\n",
    "#                     n_jobs=4,\n",
    "#                     scoring='neg_mean_squared_error')\n",
    "\n",
    "# # Поиск оптимальных параметров\n",
    "# reg.fit(X_train, y_train)\n"
   ]
  },
  {
   "cell_type": "code",
   "execution_count": null,
   "id": "883df5c7",
   "metadata": {},
   "outputs": [],
   "source": [
    "\n",
    "# print(\"Лучшие параметры: {}\".format(reg.best_params_)) \n",
    "# print(\"Лучшая оценка RMSE: {}\".format(reg.best_score_))\n"
   ]
  },
  {
   "cell_type": "code",
   "execution_count": null,
   "id": "097ad886",
   "metadata": {},
   "outputs": [],
   "source": [
    "# # MLPRegressor\n",
    "# optimalReg = MLPRegressor(activation='relu',            # ‘identity’, ‘logistic’, ‘tanh’, ‘relu’\n",
    "#                         solver='adam',                   #‘lbfgs’, ‘sgd’, ‘adam’   \n",
    "#                         learning_rate='adaptive',   \n",
    "#                         max_iter=7000,\n",
    "#                         random_state=42)\n",
    "\n",
    "# optimalReg.fit(X_train, y_train)\n",
    "\n",
    "# trainRmseOptimalReg = mean_squared_error(y_train, optimalReg.predict(X_train),squared=False)\n",
    "# testRmseOptimalReg = mean_squared_error(y_test, optimalReg.predict(X_test),squared=False)\n",
    "\n",
    "# print(\"optimalReg model train data RMSE: {}\".format((trainRmseOptimalReg)))\n",
    "# print(\"optimalReg model test data: {}\".format((testRmseOptimalReg)))"
   ]
  },
  {
   "cell_type": "code",
   "execution_count": null,
   "id": "f0cf6311",
   "metadata": {},
   "outputs": [],
   "source": [
    "\n",
    "\n",
    "\n",
    "\n",
    "# sorted(list(zip(data.columns, model.coef_)), \n",
    "#        key=lambda x: abs(x[1]))"
   ]
  },
  {
   "cell_type": "code",
   "execution_count": null,
   "id": "000b78d5",
   "metadata": {},
   "outputs": [],
   "source": [
    "\n",
    "# save the model to disk\n",
    "# filenameModel = 'finalized_model.sav'\n",
    "# pickle.dump(optimalReg, open(filenameModel, 'wb'))\n",
    " \n",
    "# fiilenameParams = 'modelParams.sav'\n",
    "# pickle.dump(reg.best_params_, open(fiilenameParams, 'wb'))\n",
    "# some time later...\n",
    " \n",
    "# load the model from disk\n",
    "# loaded_model = pickle.load(open(filename, 'r'))\n",
    "# result = loaded_model.score(X_test, y_test)\n",
    "# print(result)"
   ]
  },
  {
   "cell_type": "code",
   "execution_count": null,
   "id": "1a0ce0c3",
   "metadata": {},
   "outputs": [],
   "source": [
    "# loaded_model = pickle.load(open(filenameModel, 'rb'))\n",
    "\n",
    "# trainRmseLoadadModel = mean_squared_error(y_train, loaded_model.predict(X_train),squared=False)\n",
    "# testRmseLodedModel = mean_squared_error(y_test, loaded_model.predict(X_test),squared=False)\n",
    "\n",
    "# print(\"Loadaed model train data RMSE: {}\".format((trainRmseLoadadModel)))\n",
    "# print(\"Loadaed model test data: {}\".format((testRmseLodedModel)))\n",
    "\n"
   ]
  }
 ],
 "metadata": {
  "kernelspec": {
   "display_name": "Python 3.11.1 64-bit",
   "language": "python",
   "name": "python3"
  },
  "language_info": {
   "codemirror_mode": {
    "name": "ipython",
    "version": 3
   },
   "file_extension": ".py",
   "mimetype": "text/x-python",
   "name": "python",
   "nbconvert_exporter": "python",
   "pygments_lexer": "ipython3",
   "version": "3.11.1"
  },
  "vscode": {
   "interpreter": {
    "hash": "aee8b7b246df8f9039afb4144a1f6fd8d2ca17a180786b69acc140d282b71a49"
   }
  }
 },
 "nbformat": 4,
 "nbformat_minor": 5
}
