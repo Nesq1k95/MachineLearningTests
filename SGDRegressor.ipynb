{
 "cells": [
  {
   "cell_type": "code",
   "execution_count": 1,
   "id": "d12ba7f4-6184-48f1-88ae-3ba7812c7202",
   "metadata": {
    "tags": []
   },
   "outputs": [],
   "source": [
    "import numpy as np\n",
    "import pandas as pd\n",
    "import sklearn\n",
    "\n",
    "from sklearn.linear_model import SGDRegressor\n",
    "from sklearn.model_selection import train_test_split\n",
    "from sklearn.pipeline import make_pipeline\n",
    "from sklearn.preprocessing import StandardScaler\n",
    "from sklearn.metrics import mean_squared_error"
   ]
  },
  {
   "cell_type": "code",
   "execution_count": 2,
   "id": "5393a210-2ee0-460c-8a3c-8c22d50cd695",
   "metadata": {},
   "outputs": [],
   "source": [
    "X = pd.read_csv('i.csv', header = None, float_precision='high', sep = ';', dtype = np.float64)\n",
    "y = pd.read_csv('o.csv', header = None, float_precision='high', sep = ';', dtype = np.float64)"
   ]
  },
  {
   "cell_type": "code",
   "execution_count": 3,
   "id": "619b0de8",
   "metadata": {},
   "outputs": [],
   "source": [
    "X_train, X_test, y_train, y_test = train_test_split(X, y, test_size = 0.3)"
   ]
  },
  {
   "cell_type": "code",
   "execution_count": null,
   "id": "02a49317",
   "metadata": {},
   "outputs": [],
   "source": [
    "reg = make_pipeline(StandardScaler(), SGDRegressor(tol = 1e-4, learning_rate='optimal', eta0 = 0.001, max_iter=10000000))\n",
    "reg.fit(X_train, np.ravel(y_train))"
   ]
  },
  {
   "cell_type": "code",
   "execution_count": null,
   "id": "1abd058a-ef18-49a5-b769-78e786273f59",
   "metadata": {},
   "outputs": [],
   "source": [
    "predictions = reg.predict(X_test)\n",
    "mse = mean_squared_error(y_test, predictions) \n",
    "print(\"RMSE: {}\".format(np.sqrt(mse)))"
   ]
  },
  {
   "cell_type": "code",
   "execution_count": null,
   "id": "dbb69d50",
   "metadata": {},
   "outputs": [],
   "source": []
  }
 ],
 "metadata": {
  "kernelspec": {
   "display_name": "Python 3 (ipykernel)",
   "language": "python",
   "name": "python3"
  },
  "language_info": {
   "codemirror_mode": {
    "name": "ipython",
    "version": 3
   },
   "file_extension": ".py",
   "mimetype": "text/x-python",
   "name": "python",
   "nbconvert_exporter": "python",
   "pygments_lexer": "ipython3",
   "version": "3.9.13"
  }
 },
 "nbformat": 4,
 "nbformat_minor": 5
}
